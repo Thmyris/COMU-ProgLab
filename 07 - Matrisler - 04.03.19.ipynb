{
 "cells": [
  {
   "cell_type": "code",
   "execution_count": 2,
   "metadata": {},
   "outputs": [
    {
     "name": "stdout",
     "output_type": "stream",
     "text": [
      "1 2 3 \n",
      "4 5 6 \n"
     ]
    }
   ],
   "source": [
    "#04.03.19\n",
    "#gecen derste vektor islemleri yapilmis.\n",
    "#vektorler arasi . ic carpim sonucunu verir.\n",
    "#alpha isareti kullaniliyor, skaler carpma demek.\n",
    "#diziyi olusturduktan sonra deger atamasi pythonun veri tipini belirlemesi icin gerekli, deger atmasi yapmadan diziye x degiskenini ekle dersek komut calismaz.\n",
    "#bu derste bunun bir otesi olan matrisleri konusacagiz.\n",
    "#matrisler: M1, M2\n",
    "#m, n boyutlar; satir, sutun; i, j\n",
    "\n",
    "\n",
    "matrix1=[[1,2,3],[4,5,6]]\n",
    "#liste ile matris gosterimi, listenin listesi (a list of list) seklinde pythonda da C ve Java da oldugu gibi.\n",
    "\n",
    "for i in matrix1:\n",
    "    for j in i:\n",
    "        print (j, end=\" \")\n",
    "    print()\n",
    "    "
   ]
  },
  {
   "cell_type": "code",
   "execution_count": 21,
   "metadata": {},
   "outputs": [
    {
     "name": "stdout",
     "output_type": "stream",
     "text": [
      "[[4, 6, 8]]\n",
      "[[4, 6, 8], [7, 9, 11]]\n"
     ]
    }
   ],
   "source": [
    "matrix2=[[3,4,5],[3,4,5]]\n",
    "         \n",
    "def matrixAddition(m1,m2):\n",
    "    resultMatrix=[]\n",
    "    for i in range (len(m1)):\n",
    "        resultMatrix.append([])\n",
    "        #print(len(m1)) #DEBUG\n",
    "        for j in range (len(m1[0])): #Matriste len fonksiyonu kullanmak garip ama kullandik. Daha iyi bir yontem ne olabilirdi?\n",
    "            #print (m1[i][j], end=\" \") #DEBUG\n",
    "            resultMatrix[i].append(m1[i][j]+m2[i][j]) #burda neden sadece resultMatrix[i] yazdik tam anlamadim #BAK\n",
    "        #print()\n",
    "        print (resultMatrix)\n",
    "        \n",
    "matrixAddition(matrix1,matrix2) #burda fonksiyonunun icinde yazdirma yontemini kullanmisim ancak returnle resultMatrixi dondurmek kodun ilerisinde kullanim icin ideal cozum olurdu. Neden fonksiyon yazdik ki biz yoksa?\n",
    "\n",
    "#Substraction da ayni yontemle kullanilabilir, tekrar metodu yazmadim ama (+)'yi (-) yapinca is bitiyor.\n",
    " "
   ]
  },
  {
   "cell_type": "code",
   "execution_count": 36,
   "metadata": {},
   "outputs": [
    {
     "name": "stdout",
     "output_type": "stream",
     "text": [
      "[[10, 20, 30]]\n",
      "[[10, 20, 30], [40, 50, 60]]\n"
     ]
    }
   ],
   "source": [
    "def matrixScalarProduct(alpha,m1):\n",
    "    resultMatrix=[]\n",
    "    for i in range (len(m1)):\n",
    "        resultMatrix.append([])\n",
    "        #print(len(m1)) #DEBUG\n",
    "        for j in range (len(m1[0])): #Matriste len fonksiyonu kullanmak garip ama kullandik. Daha iyi bir yontem ne olabilirdi?\n",
    "            #print (m1[i][j], end=\" \") #DEBUG\n",
    "            resultMatrix[i].append(m1[i][j]*alpha) #burda neden sadece resultMatrix[i] yazdik tam anlamadim #BAK\n",
    "        #print()\n",
    "        print (resultMatrix)\n",
    "        \n",
    "alpha=10\n",
    "matrixScalarProduct(alpha,matrix1)"
   ]
  },
  {
   "cell_type": "code",
   "execution_count": 26,
   "metadata": {},
   "outputs": [
    {
     "data": {
      "text/plain": [
       "[4, 5, 6]"
      ]
     },
     "execution_count": 26,
     "metadata": {},
     "output_type": "execute_result"
    }
   ],
   "source": [
    "def f1(m1, i):\n",
    "    return m1[i]\n",
    "f1(matrix1, 1)"
   ]
  },
  {
   "cell_type": "code",
   "execution_count": 39,
   "metadata": {},
   "outputs": [
    {
     "data": {
      "text/plain": [
       "[3, 6]"
      ]
     },
     "execution_count": 39,
     "metadata": {},
     "output_type": "execute_result"
    }
   ],
   "source": [
    "def f2(m1,j):\n",
    "    j_th_col=[]\n",
    "    for row in m1:\n",
    "        for indis in range(len(row)):\n",
    "            if(indis==j):\n",
    "                j_th_col.append(row[indis])\n",
    "    return j_th_col\n",
    "f2(matrix1,2)"
   ]
  },
  {
   "cell_type": "code",
   "execution_count": 34,
   "metadata": {},
   "outputs": [],
   "source": [
    "def VectorsInnerProduct(v,w):\n",
    "    size=len(v)\n",
    "    my_result=[]\n",
    "    for i in range(size):\n",
    "        my_result.append(0)\n",
    "    for i in range(size):\n",
    "        my_result[i]=v[i]*w[i]\n",
    "    t=0\n",
    "    for i in range(size):\n",
    "        t+=my_result[i]\n",
    "    return t\n"
   ]
  },
  {
   "cell_type": "code",
   "execution_count": 43,
   "metadata": {},
   "outputs": [
    {
     "data": {
      "text/plain": [
       "[[64, 54, 48], [72, 73, 54]]"
      ]
     },
     "execution_count": 43,
     "metadata": {},
     "output_type": "execute_result"
    }
   ],
   "source": [
    "def matrixMultiplication(m1,m2):\n",
    "    resultMatrix=[]\n",
    "    for row in range(len(m1)): #satir m1den\n",
    "        resultMatrix.append([])\n",
    "        for column in range(len(m2[0])): #sutun m2den\n",
    "            a=f1(m1,row)\n",
    "            b=f2(m2,column)\n",
    "            c=VectorsInnerProduct(a,b)\n",
    "            resultMatrix[row].append(c)\n",
    "    return resultMatrix\n",
    "matrix3=[[4,6],[8,5]]\n",
    "matrix4=[[4,6,3],[8,5,6]]\n",
    "r= matrixMultiplication(matrix3, matrix4)\n",
    "r"
   ]
  },
  {
   "cell_type": "code",
   "execution_count": null,
   "metadata": {},
   "outputs": [],
   "source": [
    "#haftaya matrislerde determinanti bulma ile baslayacagiz. ondan sonra da kitaptan isleyecegiz."
   ]
  }
 ],
 "metadata": {
  "kernelspec": {
   "display_name": "Python 3",
   "language": "python",
   "name": "python3"
  },
  "language_info": {
   "codemirror_mode": {
    "name": "ipython",
    "version": 3
   },
   "file_extension": ".py",
   "mimetype": "text/x-python",
   "name": "python",
   "nbconvert_exporter": "python",
   "pygments_lexer": "ipython3",
   "version": "3.7.2"
  }
 },
 "nbformat": 4,
 "nbformat_minor": 2
}
